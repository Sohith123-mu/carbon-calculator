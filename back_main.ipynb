{
 "cells": [
  {
   "cell_type": "markdown",
   "id": "76525f86-7e24-49ab-9c62-78020812b6c9",
   "metadata": {},
   "source": [
    "# DATA ANALYSIS"
   ]
  },
  {
   "cell_type": "code",
   "execution_count": 1,
   "id": "0c549119-db57-4c63-9b48-945251ce59fd",
   "metadata": {},
   "outputs": [
    {
     "data": {
      "text/html": [
       "<div>\n",
       "<style scoped>\n",
       "    .dataframe tbody tr th:only-of-type {\n",
       "        vertical-align: middle;\n",
       "    }\n",
       "\n",
       "    .dataframe tbody tr th {\n",
       "        vertical-align: top;\n",
       "    }\n",
       "\n",
       "    .dataframe thead th {\n",
       "        text-align: right;\n",
       "    }\n",
       "</style>\n",
       "<table border=\"1\" class=\"dataframe\">\n",
       "  <thead>\n",
       "    <tr style=\"text-align: right;\">\n",
       "      <th></th>\n",
       "      <th>Body Type</th>\n",
       "      <th>Sex</th>\n",
       "      <th>Diet</th>\n",
       "      <th>How Often Shower</th>\n",
       "      <th>Heating Energy Source</th>\n",
       "      <th>Transport</th>\n",
       "      <th>Vehicle Type</th>\n",
       "      <th>Social Activity</th>\n",
       "      <th>Monthly Grocery Bill</th>\n",
       "      <th>Frequency of Traveling by Air</th>\n",
       "      <th>Vehicle Monthly Distance Km</th>\n",
       "      <th>Waste Bag Size</th>\n",
       "      <th>Waste Bag Weekly Count</th>\n",
       "      <th>How Long TV PC Daily Hour</th>\n",
       "      <th>How Many New Clothes Monthly</th>\n",
       "      <th>How Long Internet Daily Hour</th>\n",
       "      <th>Energy efficiency</th>\n",
       "      <th>Recycling</th>\n",
       "      <th>Cooking_With</th>\n",
       "      <th>CarbonEmission</th>\n",
       "    </tr>\n",
       "  </thead>\n",
       "  <tbody>\n",
       "    <tr>\n",
       "      <th>0</th>\n",
       "      <td>overweight</td>\n",
       "      <td>female</td>\n",
       "      <td>pescatarian</td>\n",
       "      <td>daily</td>\n",
       "      <td>coal</td>\n",
       "      <td>public</td>\n",
       "      <td>NaN</td>\n",
       "      <td>often</td>\n",
       "      <td>230</td>\n",
       "      <td>frequently</td>\n",
       "      <td>210</td>\n",
       "      <td>large</td>\n",
       "      <td>4</td>\n",
       "      <td>7</td>\n",
       "      <td>26</td>\n",
       "      <td>1</td>\n",
       "      <td>No</td>\n",
       "      <td>['Metal']</td>\n",
       "      <td>['Stove', 'Oven']</td>\n",
       "      <td>2238</td>\n",
       "    </tr>\n",
       "    <tr>\n",
       "      <th>1</th>\n",
       "      <td>obese</td>\n",
       "      <td>female</td>\n",
       "      <td>vegetarian</td>\n",
       "      <td>less frequently</td>\n",
       "      <td>natural gas</td>\n",
       "      <td>walk/bicycle</td>\n",
       "      <td>NaN</td>\n",
       "      <td>often</td>\n",
       "      <td>114</td>\n",
       "      <td>rarely</td>\n",
       "      <td>9</td>\n",
       "      <td>extra large</td>\n",
       "      <td>3</td>\n",
       "      <td>9</td>\n",
       "      <td>38</td>\n",
       "      <td>5</td>\n",
       "      <td>No</td>\n",
       "      <td>['Metal']</td>\n",
       "      <td>['Stove', 'Microwave']</td>\n",
       "      <td>1892</td>\n",
       "    </tr>\n",
       "    <tr>\n",
       "      <th>2</th>\n",
       "      <td>overweight</td>\n",
       "      <td>male</td>\n",
       "      <td>omnivore</td>\n",
       "      <td>more frequently</td>\n",
       "      <td>wood</td>\n",
       "      <td>private</td>\n",
       "      <td>petrol</td>\n",
       "      <td>never</td>\n",
       "      <td>138</td>\n",
       "      <td>never</td>\n",
       "      <td>2472</td>\n",
       "      <td>small</td>\n",
       "      <td>1</td>\n",
       "      <td>14</td>\n",
       "      <td>47</td>\n",
       "      <td>6</td>\n",
       "      <td>Sometimes</td>\n",
       "      <td>['Metal']</td>\n",
       "      <td>['Oven', 'Microwave']</td>\n",
       "      <td>2595</td>\n",
       "    </tr>\n",
       "    <tr>\n",
       "      <th>3</th>\n",
       "      <td>overweight</td>\n",
       "      <td>male</td>\n",
       "      <td>omnivore</td>\n",
       "      <td>twice a day</td>\n",
       "      <td>wood</td>\n",
       "      <td>walk/bicycle</td>\n",
       "      <td>NaN</td>\n",
       "      <td>sometimes</td>\n",
       "      <td>157</td>\n",
       "      <td>rarely</td>\n",
       "      <td>74</td>\n",
       "      <td>medium</td>\n",
       "      <td>3</td>\n",
       "      <td>20</td>\n",
       "      <td>5</td>\n",
       "      <td>7</td>\n",
       "      <td>Sometimes</td>\n",
       "      <td>['Paper', 'Plastic', 'Glass', 'Metal']</td>\n",
       "      <td>['Microwave', 'Grill', 'Airfryer']</td>\n",
       "      <td>1074</td>\n",
       "    </tr>\n",
       "    <tr>\n",
       "      <th>4</th>\n",
       "      <td>obese</td>\n",
       "      <td>female</td>\n",
       "      <td>vegetarian</td>\n",
       "      <td>daily</td>\n",
       "      <td>coal</td>\n",
       "      <td>private</td>\n",
       "      <td>diesel</td>\n",
       "      <td>often</td>\n",
       "      <td>266</td>\n",
       "      <td>very frequently</td>\n",
       "      <td>8457</td>\n",
       "      <td>large</td>\n",
       "      <td>1</td>\n",
       "      <td>3</td>\n",
       "      <td>5</td>\n",
       "      <td>6</td>\n",
       "      <td>Yes</td>\n",
       "      <td>['Paper']</td>\n",
       "      <td>['Oven']</td>\n",
       "      <td>4743</td>\n",
       "    </tr>\n",
       "  </tbody>\n",
       "</table>\n",
       "</div>"
      ],
      "text/plain": [
       "    Body Type     Sex         Diet How Often Shower Heating Energy Source  \\\n",
       "0  overweight  female  pescatarian            daily                  coal   \n",
       "1       obese  female   vegetarian  less frequently           natural gas   \n",
       "2  overweight    male     omnivore  more frequently                  wood   \n",
       "3  overweight    male     omnivore      twice a day                  wood   \n",
       "4       obese  female   vegetarian            daily                  coal   \n",
       "\n",
       "      Transport Vehicle Type Social Activity  Monthly Grocery Bill  \\\n",
       "0        public          NaN           often                   230   \n",
       "1  walk/bicycle          NaN           often                   114   \n",
       "2       private       petrol           never                   138   \n",
       "3  walk/bicycle          NaN       sometimes                   157   \n",
       "4       private       diesel           often                   266   \n",
       "\n",
       "  Frequency of Traveling by Air  Vehicle Monthly Distance Km Waste Bag Size  \\\n",
       "0                    frequently                          210          large   \n",
       "1                        rarely                            9    extra large   \n",
       "2                         never                         2472          small   \n",
       "3                        rarely                           74         medium   \n",
       "4               very frequently                         8457          large   \n",
       "\n",
       "   Waste Bag Weekly Count  How Long TV PC Daily Hour  \\\n",
       "0                       4                          7   \n",
       "1                       3                          9   \n",
       "2                       1                         14   \n",
       "3                       3                         20   \n",
       "4                       1                          3   \n",
       "\n",
       "   How Many New Clothes Monthly  How Long Internet Daily Hour  \\\n",
       "0                            26                             1   \n",
       "1                            38                             5   \n",
       "2                            47                             6   \n",
       "3                             5                             7   \n",
       "4                             5                             6   \n",
       "\n",
       "  Energy efficiency                               Recycling  \\\n",
       "0                No                               ['Metal']   \n",
       "1                No                               ['Metal']   \n",
       "2         Sometimes                               ['Metal']   \n",
       "3         Sometimes  ['Paper', 'Plastic', 'Glass', 'Metal']   \n",
       "4               Yes                               ['Paper']   \n",
       "\n",
       "                         Cooking_With  CarbonEmission  \n",
       "0                   ['Stove', 'Oven']            2238  \n",
       "1              ['Stove', 'Microwave']            1892  \n",
       "2               ['Oven', 'Microwave']            2595  \n",
       "3  ['Microwave', 'Grill', 'Airfryer']            1074  \n",
       "4                            ['Oven']            4743  "
      ]
     },
     "execution_count": 1,
     "metadata": {},
     "output_type": "execute_result"
    }
   ],
   "source": [
    "import pandas as pd\n",
    "df = pd.read_csv(\"Carbon Emission.csv\")\n",
    "df.head()\n"
   ]
  },
  {
   "cell_type": "code",
   "execution_count": 2,
   "id": "9a56cbf7-83ea-413b-91b2-36b291e95666",
   "metadata": {},
   "outputs": [
    {
     "name": "stdout",
     "output_type": "stream",
     "text": [
      "Shape: (10000, 20)\n",
      "Columns: ['Body Type', 'Sex', 'Diet', 'How Often Shower', 'Heating Energy Source', 'Transport', 'Vehicle Type', 'Social Activity', 'Monthly Grocery Bill', 'Frequency of Traveling by Air', 'Vehicle Monthly Distance Km', 'Waste Bag Size', 'Waste Bag Weekly Count', 'How Long TV PC Daily Hour', 'How Many New Clothes Monthly', 'How Long Internet Daily Hour', 'Energy efficiency', 'Recycling', 'Cooking_With', 'CarbonEmission']\n"
     ]
    }
   ],
   "source": [
    "print(\"Shape:\", df.shape)\n",
    "print(\"Columns:\", df.columns.tolist())\n"
   ]
  },
  {
   "cell_type": "code",
   "execution_count": 3,
   "id": "3662074a-39c9-4ce8-8ceb-3dca8575a56f",
   "metadata": {},
   "outputs": [
    {
     "name": "stdout",
     "output_type": "stream",
     "text": [
      "<class 'pandas.core.frame.DataFrame'>\n",
      "RangeIndex: 10000 entries, 0 to 9999\n",
      "Data columns (total 20 columns):\n",
      " #   Column                         Non-Null Count  Dtype \n",
      "---  ------                         --------------  ----- \n",
      " 0   Body Type                      10000 non-null  object\n",
      " 1   Sex                            10000 non-null  object\n",
      " 2   Diet                           10000 non-null  object\n",
      " 3   How Often Shower               10000 non-null  object\n",
      " 4   Heating Energy Source          10000 non-null  object\n",
      " 5   Transport                      10000 non-null  object\n",
      " 6   Vehicle Type                   3279 non-null   object\n",
      " 7   Social Activity                10000 non-null  object\n",
      " 8   Monthly Grocery Bill           10000 non-null  int64 \n",
      " 9   Frequency of Traveling by Air  10000 non-null  object\n",
      " 10  Vehicle Monthly Distance Km    10000 non-null  int64 \n",
      " 11  Waste Bag Size                 10000 non-null  object\n",
      " 12  Waste Bag Weekly Count         10000 non-null  int64 \n",
      " 13  How Long TV PC Daily Hour      10000 non-null  int64 \n",
      " 14  How Many New Clothes Monthly   10000 non-null  int64 \n",
      " 15  How Long Internet Daily Hour   10000 non-null  int64 \n",
      " 16  Energy efficiency              10000 non-null  object\n",
      " 17  Recycling                      10000 non-null  object\n",
      " 18  Cooking_With                   10000 non-null  object\n",
      " 19  CarbonEmission                 10000 non-null  int64 \n",
      "dtypes: int64(7), object(13)\n",
      "memory usage: 1.5+ MB\n"
     ]
    }
   ],
   "source": [
    "df.info()\n"
   ]
  },
  {
   "cell_type": "code",
   "execution_count": 4,
   "id": "700c6123-f828-480f-9e51-3516bca5944d",
   "metadata": {},
   "outputs": [],
   "source": [
    "import seaborn as sns\n",
    "import matplotlib.pyplot as plt\n"
   ]
  },
  {
   "cell_type": "code",
   "execution_count": null,
   "id": "52b6a444-b600-466a-8c0b-5687d3198386",
   "metadata": {},
   "outputs": [],
   "source": []
  },
  {
   "cell_type": "code",
   "execution_count": null,
   "id": "2445f70b-596d-4c04-a578-52cbbdd3e80d",
   "metadata": {},
   "outputs": [],
   "source": []
  },
  {
   "cell_type": "code",
   "execution_count": 5,
   "id": "6b120e54-a1bd-4c75-a8b5-d05504dda257",
   "metadata": {},
   "outputs": [
    {
     "data": {
      "image/png": "[encoded data removed]",
      "text/plain": [
       "<Figure size 640x480 with 1 Axes>"
      ]
     },
     "metadata": {},
     "output_type": "display_data"
    }
   ],
   "source": [
    "sns.histplot(df['CarbonEmission'], kde=True)\n",
    "plt.title(\"Carbon Emission Distribution\")\n",
    "plt.show()\n"
   ]
  },
  {
   "cell_type": "code",
   "execution_count": 6,
   "id": "255426b5-73f9-4615-a2f1-76ae40b7eb78",
   "metadata": {},
   "outputs": [
    {
     "data": {
      "image/png": "[encoded data removed]",
      "text/plain": [
       "<Figure size 640x480 with 1 Axes>"
      ]
     },
     "metadata": {},
     "output_type": "display_data"
    }
   ],
   "source": [
    "sns.boxplot(x='Diet', y='CarbonEmission', data=df)\n",
    "plt.xticks(rotation=45)\n",
    "plt.title(\"Carbon Emission by Diet\")\n",
    "plt.show()\n"
   ]
  },
  {
   "cell_type": "code",
   "execution_count": 7,
   "id": "cc57773f-bb95-40ff-b955-591c04780808",
   "metadata": {},
   "outputs": [
    {
     "data": {
      "image/png": "[encoded data removed]",
      "text/plain": [
       "<Figure size 640x480 with 1 Axes>"
      ]
     },
     "metadata": {},
     "output_type": "display_data"
    }
   ],
   "source": [
    "sns.barplot(x='Transport', y='CarbonEmission', data=df)\n",
    "plt.xticks(rotation=45)\n",
    "plt.title(\"Carbon Emission by Transport Mode\")\n",
    "plt.show()\n"
   ]
  },
  {
   "cell_type": "markdown",
   "id": "1fbadcb1-ba5a-4ce8-a624-61514274436e",
   "metadata": {},
   "source": [
    "# Model Building and Evaluation"
   ]
  },
  {
   "cell_type": "code",
   "execution_count": 9,
   "id": "f4d89209-076a-4176-b19b-8a3a7e767c3e",
   "metadata": {},
   "outputs": [
    {
     "ename": "NameError",
     "evalue": "name 'X_scaled' is not defined",
     "output_type": "error",
     "traceback": [
      "\u001b[0;31m---------------------------------------------------------------------------\u001b[0m",
      "\u001b[0;31mNameError\u001b[0m                                 Traceback (most recent call last)",
      "Cell \u001b[0;32mIn[9], line 3\u001b[0m\n\u001b[1;32m      1\u001b[0m \u001b[38;5;28;01mfrom\u001b[39;00m\u001b[38;5;250m \u001b[39m\u001b[38;5;21;01msklearn\u001b[39;00m\u001b[38;5;21;01m.\u001b[39;00m\u001b[38;5;21;01mmodel_selection\u001b[39;00m\u001b[38;5;250m \u001b[39m\u001b[38;5;28;01mimport\u001b[39;00m train_test_split\n\u001b[0;32m----> 3\u001b[0m X_train, X_test, y_train, y_test \u001b[38;5;241m=\u001b[39m train_test_split(\u001b[43mX_scaled\u001b[49m, y, test_size\u001b[38;5;241m=\u001b[39m\u001b[38;5;241m0.2\u001b[39m, random_state\u001b[38;5;241m=\u001b[39m\u001b[38;5;241m42\u001b[39m)\n",
      "\u001b[0;31mNameError\u001b[0m: name 'X_scaled' is not defined"
     ]
    }
   ],
   "source": [
    "from sklearn.model_selection import train_test_split\n",
    "\n",
    "X_train, X_test, y_train, y_test = train_test_split(X_scaled, y, test_size=0.2, random_state=42)\n"
   ]
  },
  {
   "cell_type": "code",
   "execution_count": null,
   "id": "b84ec9c4-0c1d-4e50-883b-0322e813978e",
   "metadata": {},
   "outputs": [],
   "source": [
    "from sklearn.model_selection import train_test_split\n",
    "\n",
    "X_train, X_test, y_train, y_test = train_test_split(X_scaled, y, test_size=0.2, random_state=42)\n"
   ]
  },
  {
   "cell_type": "code",
   "execution_count": null,
   "id": "8f5396ed-6651-4962-b5eb-5a9ac796123a",
   "metadata": {},
   "outputs": [],
   "source": [
    "from sklearn.ensemble import RandomForestRegressor\n",
    "rf = RandomForestRegressor()\n",
    "rf.fit(X_train, y_train)\n"
   ]
  },
  {
   "cell_type": "code",
   "execution_count": null,
   "id": "0288b5d8-fb7d-43e2-927c-2c1d66dcbfe2",
   "metadata": {},
   "outputs": [],
   "source": [
    "from sklearn.tree import DecisionTreeRegressor\n",
    "dt = DecisionTreeRegressor()\n",
    "dt.fit(X_train, y_train)\n"
   ]
  },
  {
   "cell_type": "code",
   "execution_count": null,
   "id": "3c800288-3ca4-41a2-9d56-760ac5b40315",
   "metadata": {},
   "outputs": [],
   "source": [
    "from tensorflow.keras.models import Sequential\n",
    "from tensorflow.keras.layers import Dense, Input\n",
    "\n",
    "cnn = Sequential([\n",
    "    Input(shape=(X_train.shape[1],)),\n",
    "    Dense(128, activation='relu'),\n",
    "    Dense(64, activation='relu'),\n",
    "    Dense(1)\n",
    "])\n",
    "cnn.compile(optimizer='adam', loss='mse')\n",
    "cnn.fit(X_train, y_train, epochs=10, verbose=1)\n"
   ]
  },
  {
   "cell_type": "code",
   "execution_count": null,
   "id": "55226a5e-07a1-4765-92af-5a6dad15449e",
   "metadata": {},
   "outputs": [],
   "source": [
    "from sklearn.metrics import mean_squared_error, r2_score\n",
    "# Decision Tree Prediction\n",
    "y_pred_dt = dt.predict(X_test)\n",
    "\n",
    "# Random Forest Prediction\n",
    "y_pred_rf = rf.predict(X_test)\n",
    "\n",
    "# CNN Prediction (make sure X_test_cnn is reshaped to image format if needed)\n",
    "y_pred_cnn = cnn.predict(X_test)\n",
    "y_pred_cnn = y_pred_cnn.flatten()  # if it's (n,1) shape\n",
    "\n",
    "def evaluate(y_true, y_pred, name):\n",
    "    print(f\"{name} RMSE:\", mean_squared_error(y_true, y_pred, squared=False))\n",
    "    print(f\"{name} R2 Score:\", r2_score(y_true, y_pred))\n",
    "\n",
    "evaluate(y_test, y_pred_dt, \"Decision Tree\")\n",
    "evaluate(y_test, y_pred_rf, \"Random Forest\")\n",
    "evaluate(y_test, y_pred_cnn, \"CNN\")\n"
   ]
  },
  {
   "cell_type": "code",
   "execution_count": null,
   "id": "3e6a2b57-516e-4e5c-b57e-e6459cb5ba0c",
   "metadata": {},
   "outputs": [],
   "source": [
    "from sklearn.metrics import confusion_matrix\n",
    "import numpy as np\n",
    "\n",
    "# Binning into categories\n",
    "y_test_cat = pd.cut(y_test, bins=3, labels=[0,1,2])\n",
    "y_pred_cat = pd.cut(y_pred_rf, bins=3, labels=[0,1,2])\n",
    "\n",
    "cm = confusion_matrix(y_test_cat, y_pred_cat)\n",
    "sns.heatmap(cm, annot=True)\n",
    "plt.title(\"Confusion Matrix - Random Forest\")\n",
    "plt.show()\n"
   ]
  },
  {
   "cell_type": "markdown",
   "id": "5d7d86b9-8595-4318-bffa-bc8ee563707e",
   "metadata": {},
   "source": [
    "# Take Inputs & Predict Carbon Emission"
   ]
  },
  {
   "cell_type": "code",
   "execution_count": null,
   "id": "c7144b7f-aab7-4ed1-8088-98af236ac8e1",
   "metadata": {},
   "outputs": [],
   "source": [
    "# After preprocessing and encoding your training data:\n",
    "X = df_encoded.drop('CarbonEmission', axis=1)\n",
    "y = df_encoded['CarbonEmission']\n",
    "\n",
    "# Save this for later use in prediction\n",
    "feature_columns = X.columns.tolist()# INPUT SECTION\n",
    "raw_input = {\n",
    "    'Monthly Grocery Bill': 150,\n",
    "    'Vehicle Monthly Distance Km': 1000,\n",
    "    'Waste Bag Weekly Count': 3,\n",
    "    'How Long TV PC Daily Hour': 10,\n",
    "    'How Many New Clothes Monthly': 5,\n",
    "    'How Long Internet Daily Hour': 8,\n",
    "    'Recycling': ['Paper', 'Plastic'],\n",
    "    'Cooking_With': ['Microwave', 'Airfryer'],\n",
    "    'Body Type': 'normal',\n",
    "    'Diet': 'omnivore',\n",
    "    'Transport': 'car',\n",
    "    'Heating': 'electricity',\n",
    "    'Energy Efficiency Class': 'A++'\n",
    "}\n",
    "\n",
    "# FUNCTION SECTION\n",
    "def preprocess_input(raw_input, feature_columns, mlb_recycling, mlb_cooking, scaler):\n",
    "    df_input = pd.DataFrame([raw_input])\n",
    "\n",
    "    # Process list fields\n",
    "    recycling_df = pd.DataFrame(\n",
    "        mlb_recycling.transform([raw_input['Recycling']]), \n",
    "        columns=mlb_recycling.classes_\n",
    "    )\n",
    "    cooking_df = pd.DataFrame(\n",
    "        mlb_cooking.transform([raw_input['Cooking_With']]), \n",
    "        columns=mlb_cooking.classes_\n",
    "    )\n",
    "\n",
    "    # Drop list fields\n",
    "    df_input = df_input.drop(['Recycling', 'Cooking_With'], axis=1)\n",
    "\n",
    "    # One-hot encode categorical columns\n",
    "    df_input_encoded = pd.get_dummies(df_input)\n",
    "\n",
    "    # Combine all features\n",
    "    df_final = pd.concat([df_input_encoded, recycling_df, cooking_df], axis=1)\n",
    "\n",
    "    # Reindex to match training feature columns\n",
    "    df_final = df_final.reindex(columns=feature_columns, fill_value=0)\n",
    "\n",
    "    # Scale the input\n",
    "    input_scaled = scaler.transform(df_final)\n",
    "\n",
    "    return input_scaled\n",
    "\n",
    "# PREDICTION SECTION\n",
    "input_scaled = preprocess_input(raw_input, feature_columns, mlb_recycling, mlb_cooking, scaler)\n",
    "predicted_emission = rf.predict(input_scaled)\n",
    "\n",
    "# OUTPUT SECTION\n",
    "print(\"Predicted Carbon Emission:\", predicted_emission[0])\n"
   ]
  },
  {
   "cell_type": "code",
   "execution_count": null,
   "id": "3f2b668c-d2b0-41c1-b447-43bac701922f",
   "metadata": {},
   "outputs": [],
   "source": [
    "# Save all models using joblib (except Keras)\n",
    "import joblib\n",
    "joblib.dump(scaler, 'models/scaler.joblib')\n",
    "joblib.dump(feature_columns, 'models/feature_columns.joblib')\n",
    "joblib.dump(mlb_cooking, 'models/mlb_cooking.joblib')\n",
    "joblib.dump(mlb_recycling, 'models/mlb_recycling.joblib')\n",
    "joblib.dump(dt, 'models/dt_model.joblib')\n",
    "joblib.dump(rf, 'models/rf_model.joblib')\n",
    "\n",
    "# Save CNN model\n",
    "cnn.save('models/cnn_model.h5')"
   ]
  },
  {
   "cell_type": "code",
   "execution_count": null,
   "id": "08f0909b-6ec9-4c30-9ad1-7d97d97a0a9a",
   "metadata": {},
   "outputs": [],
   "source": []
  }
 ],
 "metadata": {
  "kernelspec": {
   "display_name": "Python 3 (ipykernel)",
   "language": "python",
   "name": "python3"
  },
  "language_info": {
   "codemirror_mode": {
    "name": "ipython",
    "version": 3
   },
   "file_extension": ".py",
   "mimetype": "text/x-python",
   "name": "python",
   "nbconvert_exporter": "python",
   "pygments_lexer": "ipython3",
   "version": "3.9.6"
  }
 },
 "nbformat": 4,
 "nbformat_minor": 5
}
