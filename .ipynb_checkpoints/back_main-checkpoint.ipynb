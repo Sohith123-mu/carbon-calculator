{
 "cells": [
  {
   "cell_type": "markdown",
   "id": "76525f86-7e24-49ab-9c62-78020812b6c9",
   "metadata": {},
   "source": [
    "# DATA ANALYSIS"
   ]
  },
  {
   "cell_type": "code",
   "execution_count": null,
   "id": "0c549119-db57-4c63-9b48-945251ce59fd",
   "metadata": {},
   "outputs": [],
   "source": [
    "import pandas as pd\n",
    "df = pd.read_csv(\"Carbon Emission.csv\")\n",
    "df.head()\n"
   ]
  },
  {
   "cell_type": "code",
   "execution_count": null,
   "id": "9a56cbf7-83ea-413b-91b2-36b291e95666",
   "metadata": {},
   "outputs": [],
   "source": [
    "print(\"Shape:\", df.shape)\n",
    "print(\"Columns:\", df.columns.tolist())\n"
   ]
  },
  {
   "cell_type": "code",
   "execution_count": null,
   "id": "3662074a-39c9-4ce8-8ceb-3dca8575a56f",
   "metadata": {},
   "outputs": [],
   "source": [
    "df.info()\n"
   ]
  },
  {
   "cell_type": "code",
   "execution_count": null,
   "id": "700c6123-f828-480f-9e51-3516bca5944d",
   "metadata": {},
   "outputs": [],
   "source": [
    "import seaborn as sns\n",
    "import matplotlib.pyplot as plt\n"
   ]
  },
  {
   "cell_type": "code",
   "execution_count": null,
   "id": "52b6a444-b600-466a-8c0b-5687d3198386",
   "metadata": {},
   "outputs": [],
   "source": []
  },
  {
   "cell_type": "code",
   "execution_count": null,
   "id": "2445f70b-596d-4c04-a578-52cbbdd3e80d",
   "metadata": {},
   "outputs": [],
   "source": []
  },
  {
   "cell_type": "code",
   "execution_count": null,
   "id": "6b120e54-a1bd-4c75-a8b5-d05504dda257",
   "metadata": {},
   "outputs": [],
   "source": [
    "sns.histplot(df['CarbonEmission'], kde=True)\n",
    "plt.title(\"Carbon Emission Distribution\")\n",
    "plt.show()\n"
   ]
  },
  {
   "cell_type": "code",
   "execution_count": null,
   "id": "255426b5-73f9-4615-a2f1-76ae40b7eb78",
   "metadata": {},
   "outputs": [],
   "source": [
    "sns.boxplot(x='Diet', y='CarbonEmission', data=df)\n",
    "plt.xticks(rotation=45)\n",
    "plt.title(\"Carbon Emission by Diet\")\n",
    "plt.show()\n"
   ]
  },
  {
   "cell_type": "code",
   "execution_count": null,
   "id": "cc57773f-bb95-40ff-b955-591c04780808",
   "metadata": {},
   "outputs": [],
   "source": [
    "sns.barplot(x='Transport', y='CarbonEmission', data=df)\n",
    "plt.xticks(rotation=45)\n",
    "plt.title(\"Carbon Emission by Transport Mode\")\n",
    "plt.show()\n"
   ]
  },
  {
   "cell_type": "code",
   "execution_count": null,
   "id": "a63134b7-e32b-405e-a2b6-7f7d678aaed4",
   "metadata": {},
   "outputs": [],
   "source": [
    "corr = df_encoded.corr()\n",
    "sns.heatmap(corr, cmap='coolwarm', annot=False)\n",
    "plt.title(\"Correlation Matrix\")\n",
    "plt.show()\n"
   ]
  },
  {
   "cell_type": "markdown",
   "id": "1fbadcb1-ba5a-4ce8-a624-61514274436e",
   "metadata": {},
   "source": [
    "# Model Building and Evaluation"
   ]
  },
  {
   "cell_type": "code",
   "execution_count": null,
   "id": "f4d89209-076a-4176-b19b-8a3a7e767c3e",
   "metadata": {},
   "outputs": [],
   "source": [
    "from sklearn.model_selection import train_test_split\n",
    "\n",
    "X_train, X_test, y_train, y_test = train_test_split(X_scaled, y, test_size=0.2, random_state=42)\n"
   ]
  },
  {
   "cell_type": "code",
   "execution_count": null,
   "id": "b84ec9c4-0c1d-4e50-883b-0322e813978e",
   "metadata": {},
   "outputs": [],
   "source": [
    "from sklearn.model_selection import train_test_split\n",
    "\n",
    "X_train, X_test, y_train, y_test = train_test_split(X_scaled, y, test_size=0.2, random_state=42)\n"
   ]
  },
  {
   "cell_type": "code",
   "execution_count": null,
   "id": "8f5396ed-6651-4962-b5eb-5a9ac796123a",
   "metadata": {},
   "outputs": [],
   "source": [
    "from sklearn.ensemble import RandomForestRegressor\n",
    "rf = RandomForestRegressor()\n",
    "rf.fit(X_train, y_train)\n"
   ]
  },
  {
   "cell_type": "code",
   "execution_count": null,
   "id": "0288b5d8-fb7d-43e2-927c-2c1d66dcbfe2",
   "metadata": {},
   "outputs": [],
   "source": [
    "from sklearn.tree import DecisionTreeRegressor\n",
    "dt = DecisionTreeRegressor()\n",
    "dt.fit(X_train, y_train)\n"
   ]
  },
  {
   "cell_type": "code",
   "execution_count": null,
   "id": "3c800288-3ca4-41a2-9d56-760ac5b40315",
   "metadata": {},
   "outputs": [],
   "source": [
    "from tensorflow.keras.models import Sequential\n",
    "from tensorflow.keras.layers import Dense, Input\n",
    "\n",
    "cnn = Sequential([\n",
    "    Input(shape=(X_train.shape[1],)),\n",
    "    Dense(128, activation='relu'),\n",
    "    Dense(64, activation='relu'),\n",
    "    Dense(1)\n",
    "])\n",
    "cnn.compile(optimizer='adam', loss='mse')\n",
    "cnn.fit(X_train, y_train, epochs=10, verbose=1)\n"
   ]
  },
  {
   "cell_type": "code",
   "execution_count": null,
   "id": "55226a5e-07a1-4765-92af-5a6dad15449e",
   "metadata": {},
   "outputs": [],
   "source": [
    "from sklearn.metrics import mean_squared_error, r2_score\n",
    "# Decision Tree Prediction\n",
    "y_pred_dt = dt.predict(X_test)\n",
    "\n",
    "# Random Forest Prediction\n",
    "y_pred_rf = rf.predict(X_test)\n",
    "\n",
    "# CNN Prediction (make sure X_test_cnn is reshaped to image format if needed)\n",
    "y_pred_cnn = cnn.predict(X_test)\n",
    "y_pred_cnn = y_pred_cnn.flatten()  # if it's (n,1) shape\n",
    "\n",
    "def evaluate(y_true, y_pred, name):\n",
    "    print(f\"{name} RMSE:\", mean_squared_error(y_true, y_pred, squared=False))\n",
    "    print(f\"{name} R2 Score:\", r2_score(y_true, y_pred))\n",
    "\n",
    "evaluate(y_test, y_pred_dt, \"Decision Tree\")\n",
    "evaluate(y_test, y_pred_rf, \"Random Forest\")\n",
    "evaluate(y_test, y_pred_cnn, \"CNN\")\n"
   ]
  },
  {
   "cell_type": "code",
   "execution_count": null,
   "id": "3e6a2b57-516e-4e5c-b57e-e6459cb5ba0c",
   "metadata": {},
   "outputs": [],
   "source": [
    "from sklearn.metrics import confusion_matrix\n",
    "import numpy as np\n",
    "\n",
    "# Binning into categories\n",
    "y_test_cat = pd.cut(y_test, bins=3, labels=[0,1,2])\n",
    "y_pred_cat = pd.cut(y_pred_rf, bins=3, labels=[0,1,2])\n",
    "\n",
    "cm = confusion_matrix(y_test_cat, y_pred_cat)\n",
    "sns.heatmap(cm, annot=True)\n",
    "plt.title(\"Confusion Matrix - Random Forest\")\n",
    "plt.show()\n"
   ]
  },
  {
   "cell_type": "markdown",
   "id": "5d7d86b9-8595-4318-bffa-bc8ee563707e",
   "metadata": {},
   "source": [
    "# Take Inputs & Predict Carbon Emission"
   ]
  },
  {
   "cell_type": "code",
   "execution_count": null,
   "id": "c7144b7f-aab7-4ed1-8088-98af236ac8e1",
   "metadata": {},
   "outputs": [],
   "source": [
    "# After preprocessing and encoding your training data:\n",
    "X = df_encoded.drop('CarbonEmission', axis=1)\n",
    "y = df_encoded['CarbonEmission']\n",
    "\n",
    "# Save this for later use in prediction\n",
    "feature_columns = X.columns.tolist()# INPUT SECTION\n",
    "raw_input = {\n",
    "    'Monthly Grocery Bill': 150,\n",
    "    'Vehicle Monthly Distance Km': 1000,\n",
    "    'Waste Bag Weekly Count': 3,\n",
    "    'How Long TV PC Daily Hour': 10,\n",
    "    'How Many New Clothes Monthly': 5,\n",
    "    'How Long Internet Daily Hour': 8,\n",
    "    'Recycling': ['Paper', 'Plastic'],\n",
    "    'Cooking_With': ['Microwave', 'Airfryer'],\n",
    "    'Body Type': 'normal',\n",
    "    'Diet': 'omnivore',\n",
    "    'Transport': 'car',\n",
    "    'Heating': 'electricity',\n",
    "    'Energy Efficiency Class': 'A++'\n",
    "}\n",
    "\n",
    "# FUNCTION SECTION\n",
    "def preprocess_input(raw_input, feature_columns, mlb_recycling, mlb_cooking, scaler):\n",
    "    df_input = pd.DataFrame([raw_input])\n",
    "\n",
    "    # Process list fields\n",
    "    recycling_df = pd.DataFrame(\n",
    "        mlb_recycling.transform([raw_input['Recycling']]), \n",
    "        columns=mlb_recycling.classes_\n",
    "    )\n",
    "    cooking_df = pd.DataFrame(\n",
    "        mlb_cooking.transform([raw_input['Cooking_With']]), \n",
    "        columns=mlb_cooking.classes_\n",
    "    )\n",
    "\n",
    "    # Drop list fields\n",
    "    df_input = df_input.drop(['Recycling', 'Cooking_With'], axis=1)\n",
    "\n",
    "    # One-hot encode categorical columns\n",
    "    df_input_encoded = pd.get_dummies(df_input)\n",
    "\n",
    "    # Combine all features\n",
    "    df_final = pd.concat([df_input_encoded, recycling_df, cooking_df], axis=1)\n",
    "\n",
    "    # Reindex to match training feature columns\n",
    "    df_final = df_final.reindex(columns=feature_columns, fill_value=0)\n",
    "\n",
    "    # Scale the input\n",
    "    input_scaled = scaler.transform(df_final)\n",
    "\n",
    "    return input_scaled\n",
    "\n",
    "# PREDICTION SECTION\n",
    "input_scaled = preprocess_input(raw_input, feature_columns, mlb_recycling, mlb_cooking, scaler)\n",
    "predicted_emission = rf.predict(input_scaled)\n",
    "\n",
    "# OUTPUT SECTION\n",
    "print(\"Predicted Carbon Emission:\", predicted_emission[0])\n"
   ]
  },
  {
   "cell_type": "code",
   "execution_count": null,
   "id": "3f2b668c-d2b0-41c1-b447-43bac701922f",
   "metadata": {},
   "outputs": [],
   "source": [
    "# Save all models using joblib (except Keras)\n",
    "import joblib\n",
    "joblib.dump(scaler, 'models/scaler.joblib')\n",
    "joblib.dump(feature_columns, 'models/feature_columns.joblib')\n",
    "joblib.dump(mlb_cooking, 'models/mlb_cooking.joblib')\n",
    "joblib.dump(mlb_recycling, 'models/mlb_recycling.joblib')\n",
    "joblib.dump(dt, 'models/dt_model.joblib')\n",
    "joblib.dump(rf, 'models/rf_model.joblib')\n",
    "\n",
    "# Save CNN model\n",
    "cnn.save('models/cnn_model.h5')"
   ]
  },
  {
   "cell_type": "code",
   "execution_count": null,
   "id": "08f0909b-6ec9-4c30-9ad1-7d97d97a0a9a",
   "metadata": {},
   "outputs": [],
   "source": []
  }
 ],
 "metadata": {
  "kernelspec": {
   "display_name": "Python 3 (ipykernel)",
   "language": "python",
   "name": "python3"
  },
  "language_info": {
   "codemirror_mode": {
    "name": "ipython",
    "version": 3
   },
   "file_extension": ".py",
   "mimetype": "text/x-python",
   "name": "python",
   "nbconvert_exporter": "python",
   "pygments_lexer": "ipython3",
   "version": "3.9.6"
  }
 },
 "nbformat": 4,
 "nbformat_minor": 5
}
